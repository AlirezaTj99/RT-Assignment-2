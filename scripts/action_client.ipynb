{
 "cells": [
  {
   "cell_type": "code",
   "execution_count": null,
   "id": "3cd5f879",
   "metadata": {},
   "outputs": [],
   "source": [
    "import time\n",
    "import rospy\n",
    "import select\n",
    "import actionlib\n",
    "import actionlib.msg\n",
    "import assignment_2_2023.msg"
   ]
  },
  {
   "cell_type": "code",
   "execution_count": null,
   "id": "0acbf240",
   "metadata": {},
   "outputs": [],
   "source": [
    "from std_srvs.srv import *\n",
    "from nav_msgs.msg import Odometry\n",
    "from assignment_2_2023.msg import Info\n",
    "from geometry_msgs.msg import Point, Pose, Twist"
   ]
  },
  {
   "cell_type": "code",
   "execution_count": null,
   "id": "d230e5ce",
   "metadata": {},
   "outputs": [],
   "source": [
    "def clbk_odom(msg):\n",
    "    \"\"\"\n",
    "\n",
    "    Callback function receives messages containing information about the robot's position and velocity. This includes the robot's position in the x and y coordinates, as well as its linear velocity in the x direction and angular velocity around the z-axis.\n",
    "    When Callback function receives a message, it extracts these pieces and saves them into a custom message format called Info().\n",
    "    This custom message is designed to hold the position (x, y) and velocity (linear velocity x, angular velocity z) of the robot.\n",
    "\n",
    "    After storing the information in the custom message, the Callback function publishes it on a specific topic called /robot_pos_vel.\n",
    "\n",
    "    \"\"\"\n",
    "\n",
    "    new_info = Info()\n",
    "    new_info.x = msg.pose.pose.position.x           # Position of the x coordinate\n",
    "    new_info.y = msg.pose.pose.position.y           # Position of the y coordinate\n",
    "    new_info.vel_x = msg.twist.twist.linear.x       # linear velocity, x axis\n",
    "    new_info.vel_z = msg.twist.twist.angular.z      # angular velocity, z axis\n",
    "\n",
    "    pub.publish(new_info)                           # Pubblish new message on /robot_pos_vel topic "
   ]
  },
  {
   "cell_type": "code",
   "execution_count": null,
   "id": "bbc61db5",
   "metadata": {},
   "outputs": [],
   "source": [
    "def clbk_feedback(feedback):\n",
    "    \"\"\"\n",
    "    Callback function processes feedback received from a client.\n",
    "    This feedback typically includes messages indicating whether the target has been reached successfully or if it has been cancelled.\n",
    "\n",
    "    When Callback function receives feedback, it checks the content of the feedback message.\n",
    "    If the message indicates that the target has been reached, it processes it accordingly, possibly performing some actions or updating internal states.\n",
    "    Similarly, if the message indicates that the target has been cancelled, it handles this feedback appropriately.\n",
    "    \"\"\"\n",
    "    \n",
    "    if feedback.stat == \"Target reached!\":\n",
    "        print(feedback)\n",
    "        print(\"Press 'Enter' to set a new goal\")\n",
    "    if feedback.stat == \"Target cancelled!\":\n",
    "        print(feedback)"
   ]
  },
  {
   "cell_type": "code",
   "execution_count": null,
   "id": "63e4701b",
   "metadata": {},
   "outputs": [],
   "source": [
    "def action():\n",
    "    \"\"\"\n",
    "    Action function deals with the coordinates provided by the user as a goal for the robot to reach.\n",
    "    Action function takes these coordinates and processes them and sends them as a goal.\n",
    "\n",
    "    While the robot is in motion towards the goal, we can cancel this goal by clicking \"c\".\n",
    "    \"\"\"\n",
    "\n",
    "    client = actionlib.SimpleActionClient('/reaching_goal', assignment_2_2023.msg.PlanningAction)\n",
    "    client.wait_for_server()\n",
    "\n",
    "\n",
    "    while not rospy.is_shutdown():\n",
    "        time.sleep(0.5)\n",
    "        print(\"Set the goal coordinates\")           # Get the coordinates from the user\n",
    "\n",
    "        try:\n",
    "            x = float(input(\"Enter x coordinates: \"))\n",
    "            y = float(input(\"Enter y coordinates: \"))\n",
    "            if -9 <= x <= 9 and -9 <= y <= 9:       # The coordinates should be in range -9 to 9\n",
    "                print(f\"Coordinates seted: (x={x}, y={y})\")             # Print coordinates sets\n",
    "            else:\n",
    "                print(\"Invalid input. Please enter x and y coordinates in range -9 to 9.\")\n",
    "                continue\n",
    "        except ValueError:\n",
    "            print(\"Invalid input. Please try again\")\n",
    "            continue\n",
    "\n",
    "        goal = assignment_2_2023.msg.PlanningGoal()\n",
    "        goal.target_pose.pose.position.x = x\n",
    "        goal.target_pose.pose.position.y = y\n",
    "\n",
    "        client.send_goal(goal, None, None, clbk_feedback)\n",
    "\n",
    "        # The robot reaches the Goal. If wanna cancel Robot goal reading, just need to click \"c\" to cancel it.\n",
    "        while not client.get_result():\n",
    "            print(\"Press 'c' to cancel the goal!\")\n",
    "            cancel = select.select([sys.stdin], [], [], 0.1)\n",
    "            if cancel:\n",
    "                user_input = sys.stdin.readline().strip()\n",
    "                if user_input == 'c':\n",
    "                    client.cancel_goal()\n",
    "                    break"
   ]
  },
  {
   "cell_type": "code",
   "execution_count": null,
   "id": "86659474",
   "metadata": {},
   "outputs": [],
   "source": [
    "def main():\n",
    "    \"\"\"\n",
    "    This is the main function where the ROS node gets started, and both the publisher and subscriber are set up.\n",
    "\n",
    "    \"\"\"\n",
    "\n",
    "    global pub, sub\n",
    "\n",
    "    rospy.init_node('action_client')\n",
    "    \"\"\"\n",
    "    Start the ROS node with the name 'action_client'.\n",
    "\n",
    "    \"\"\"\n",
    "\n",
    "    pub = rospy.Publisher('/robot_pos_vel', Info, queue_size=10) \n",
    "    \"\"\"\n",
    "    Create a ROS publisher that will send position and velocity information of the robot to the /robot_pos_vel\n",
    "\n",
    "    \"\"\"\n",
    "\n",
    "    sub = rospy.Subscriber('/odom', Odometry, clbk_odom)\n",
    "    \"\"\"\n",
    "    Create a ROS subscriber that listens to messages from the /odom topic and uses the clbk_odom callback function to process them.\n",
    "\n",
    "    \"\"\"\n",
    "\n",
    "    action()"
   ]
  },
  {
   "cell_type": "code",
   "execution_count": null,
   "id": "0a392ffc",
   "metadata": {},
   "outputs": [],
   "source": [
    "if __name__ == \"__main__\":\n",
    "    main()"
   ]
  },
  {
   "cell_type": "code",
   "execution_count": null,
   "id": "bec51988",
   "metadata": {},
   "outputs": [],
   "source": []
  },
  {
   "cell_type": "code",
   "execution_count": null,
   "id": "b8bdf179",
   "metadata": {},
   "outputs": [],
   "source": []
  }
 ],
 "metadata": {
  "kernelspec": {
   "display_name": "Python 3 (ipykernel)",
   "language": "python",
   "name": "python3"
  },
  "language_info": {
   "codemirror_mode": {
    "name": "ipython",
    "version": 3
   },
   "file_extension": ".py",
   "mimetype": "text/x-python",
   "name": "python",
   "nbconvert_exporter": "python",
   "pygments_lexer": "ipython3",
   "version": "3.12.0"
  }
 },
 "nbformat": 4,
 "nbformat_minor": 5
}
